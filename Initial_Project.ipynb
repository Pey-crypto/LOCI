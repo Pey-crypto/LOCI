{
  "nbformat": 4,
  "nbformat_minor": 0,
  "metadata": {
    "colab": {
      "name": "Initial_Project.ipynb",
      "provenance": [],
      "private_outputs": true,
      "collapsed_sections": [],
      "authorship_tag": "ABX9TyP/qT4BHjhxngFlRBde1fTh",
      "include_colab_link": true
    },
    "kernelspec": {
      "name": "python3",
      "display_name": "Python 3"
    },
    "language_info": {
      "name": "python"
    }
  },
  "cells": [
    {
      "cell_type": "markdown",
      "metadata": {
        "id": "view-in-github",
        "colab_type": "text"
      },
      "source": [
        "<a href=\"https://colab.research.google.com/github/Pey-crypto/LOCI/blob/main/Initial_Project.ipynb\" target=\"_parent\"><img src=\"https://colab.research.google.com/assets/colab-badge.svg\" alt=\"Open In Colab\"/></a>"
      ]
    },
    {
      "cell_type": "code",
      "execution_count": null,
      "metadata": {
        "id": "nuYGln7Qnrh5"
      },
      "outputs": [],
      "source": [
        "!sudo apt install gdal-bin python-gdal python3-gdal\n",
        "!sudo apt install install python3-rtree\n",
        "!pip install git+https://github.com/geopandas/geopandas.git\n",
        "!pip install descartes\n",
        "!pip install folium\n",
        "!pip install \"dask[complete]\"\n",
        "!pip install plotly_express"
      ]
    },
    {
      "cell_type": "markdown",
      "source": [
        "Above listed are the requirements. Run that cell"
      ],
      "metadata": {
        "id": "03M4HPdtrjwK"
      }
    },
    {
      "cell_type": "code",
      "metadata": {
        "id": "KNwVYZnLC3Cl"
      },
      "source": [
        "!ls -all\n",
        "!rm -rf yelp_academic_dataset_business.json\n",
        "!rm -rf yelp_academic_dataset_business.zip\n",
        "!wget https://www.dropbox.com/s/3x1w789mmuae3ao/yelp_academic_dataset_business.zip\n",
        "!unzip yelp_academic_dataset_business.zip\n",
        "!ls -all\n"
      ],
      "execution_count": null,
      "outputs": []
    },
    {
      "cell_type": "code",
      "source": [
        "import dask\n",
        "import numpy as numpy\n",
        "import geopandas as gpd\n",
        "import matplotlib.pyplot as plpt\n",
        "import seaborn as sns\n",
        "import dask.dataframe as dd\n",
        "import folium \n",
        "import plotly\n",
        "import plotly.offline as py\n",
        "import plotly.graph_objs as go\n",
        "import plotly_express as px\n",
        "\n",
        "from sklearn.cluster import KMeans\n",
        "from sklearn.metrics import silhouette_score\n"
      ],
      "metadata": {
        "id": "9GGI3fhyscIe"
      },
      "execution_count": null,
      "outputs": []
    },
    {
      "cell_type": "code",
      "source": [
        "df = dd.read_json('yelp_academic_dataset_business.json')\n",
        "df.head()"
      ],
      "metadata": {
        "id": "Q2Qeh0XOBB2N"
      },
      "execution_count": null,
      "outputs": []
    },
    {
      "cell_type": "code",
      "source": [
        "df.shape"
      ],
      "metadata": {
        "id": "YqYpDAVaaLVk"
      },
      "execution_count": null,
      "outputs": []
    },
    {
      "cell_type": "markdown",
      "source": [
        "It is because when it is large number, Dask Delayed is activated"
      ],
      "metadata": {
        "id": "br2RbKH8BCzy"
      }
    },
    {
      "cell_type": "code",
      "source": [
        "df['Restaurants'] = df['categories'].str.contains('Restaurants')\n",
        "df.head(5)"
      ],
      "metadata": {
        "id": "ub3QoxQrn2Pu"
      },
      "execution_count": null,
      "outputs": []
    },
    {
      "cell_type": "code",
      "source": [
        "df_restaurants = df.loc[df.Restaurants == True]\n",
        "df_restaurants.head()"
      ],
      "metadata": {
        "id": "4pSQLDMHqGPF"
      },
      "execution_count": null,
      "outputs": []
    },
    {
      "cell_type": "code",
      "source": [
        "df_restaurants.shape"
      ],
      "metadata": {
        "id": "R-QPQ8CuqmAP"
      },
      "execution_count": null,
      "outputs": []
    },
    {
      "cell_type": "code",
      "source": [
        "from sklearn.metrics import silhouette_score as sil\n",
        "lasVegas = df_restaurants[df_restaurants.state == 'NV']\n",
        "oods = lasVegas[['longitude','latitude']]\n",
        "dist = []\n",
        "silo = []\n",
        "K = range(1,25)\n",
        "kmax = 50\n",
        "print(\"First calculation\")\n",
        "for k in K:\n",
        "  km = KMeans(n_clusters = k)\n",
        "  km = km.fit(oods)\n",
        "  dist.append(km.inertia_)\n",
        "  print(\"*\",end=\"\")\n",
        "print(\"Second Calculation\")\n",
        "for k in range(2, kmax+1):\n",
        "    km = KMeans(n_clusters = k).fit(oods)\n",
        "    labels = km.labels_\n",
        "    silo.append(sil(oods,labels,metric = 'euclidean'))\n",
        "    print(\"*\",end=\"\")\n",
        "    \n",
        "\n",
        "#Attempt to thread these two functions\n",
        "#Tasks remaining\n",
        "#Identifying critical variables and values\n",
        "\n",
        "\"\"\"\n",
        "\n",
        "import _thread\n",
        "import time\n",
        "\n",
        "def k_means_fitting(delay):\n",
        "  for k in K:\n",
        "    time.sleep(delay)\n",
        "    km = KMeans(n_clusters = k)\n",
        "    km = km.fit(oods)\n",
        "    dist.append(km.inertia_)\n",
        "    count = count + 1\n",
        "    print(count)\n",
        "\n",
        "count=0\n",
        "def k_means_auditing(delay):\n",
        "  for k in range(2, kmax+1):\n",
        "    time.sleep(delay)\n",
        "    km = KMeans(n_clusters = k).fit(oods)\n",
        "    labels = km.labels_\n",
        "    silo.append(sil(oods,labels,metric = 'euclidean'))\n",
        "    count = count + 1\n",
        "    print(count)\n",
        "try:\n",
        "   print(\"deb\")\n",
        "   _thread.start_new_thread( k_means_fitting, (1, ) )\n",
        "   _thread.start_new_thread( k_means_auditing, (2, ) )\n",
        "except:\n",
        "   print (\"Error: unable to start thread\")\n",
        "\n",
        "\"\"\"\n",
        "\n",
        "\n"
      ],
      "metadata": {
        "id": "WKM7RIekqwz1"
      },
      "execution_count": null,
      "outputs": []
    },
    {
      "cell_type": "code",
      "source": [
        "km = KMeans(n_clusters=5,init='k-means++')\n",
        "km.fit(oods)\n",
        "y = km.labels_\n",
        "print(\"sil score\",sil(oods,y,metric='euclidean'))\n",
        "lasVegas['cluster'] = km.predict(lasVegas[['longitude','latitude']])\n",
        "lasVegas.head()"
      ],
      "metadata": {
        "id": "Q1_AEw5Rs8XM"
      },
      "execution_count": null,
      "outputs": []
    }
  ]
}